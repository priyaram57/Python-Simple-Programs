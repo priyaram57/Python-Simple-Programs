{
 "cells": [
  {
   "cell_type": "code",
   "execution_count": 3,
   "metadata": {},
   "outputs": [],
   "source": [
    "#Program to get 2 numbers from user and return the result of arithmetic operations in the form of a list\n",
    "#(addition, subtraction, multiplication, division, quotient, remainder)"
   ]
  },
  {
   "cell_type": "code",
   "execution_count": 10,
   "metadata": {},
   "outputs": [],
   "source": [
    "def my_maths(a,b):\n",
    "    add = a+b\n",
    "    mul = a*b\n",
    "    sub = a-b\n",
    "    if a == 0 or b == 0:\n",
    "        div = \"Not possible\"\n",
    "        flr = \"Not possible\"\n",
    "        rem = \"Not possible\"\n",
    "    elif a > b:\n",
    "        div = a/b\n",
    "        flr = a//b\n",
    "        rem = a%b\n",
    "    else:\n",
    "        div = b/a\n",
    "        flr = b//a\n",
    "        rem = b%a\n",
    "    return [add, sub, mul, div, flr, rem]"
   ]
  },
  {
   "cell_type": "code",
   "execution_count": 12,
   "metadata": {},
   "outputs": [
    {
     "name": "stdout",
     "output_type": "stream",
     "text": [
      "Enter number 1: 0\n",
      "Enter number 2: 10\n",
      "\n",
      "[10, -10, 0, 'Not possible', 'Not possible', 'Not possible'] <class 'list'>\n"
     ]
    }
   ],
   "source": [
    "a= eval(input(\"Enter number 1: \"))\n",
    "b= eval(input(\"Enter number 2: \"))\n",
    "print()\n",
    "y = my_maths(a,b)\n",
    "print(y, type(y))"
   ]
  }
 ],
 "metadata": {
  "kernelspec": {
   "display_name": "Python 3",
   "language": "python",
   "name": "python3"
  },
  "language_info": {
   "codemirror_mode": {
    "name": "ipython",
    "version": 3
   },
   "file_extension": ".py",
   "mimetype": "text/x-python",
   "name": "python",
   "nbconvert_exporter": "python",
   "pygments_lexer": "ipython3",
   "version": "3.8.3"
  }
 },
 "nbformat": 4,
 "nbformat_minor": 4
}
