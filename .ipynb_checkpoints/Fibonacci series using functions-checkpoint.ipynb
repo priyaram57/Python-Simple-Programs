{
 "cells": [
  {
   "cell_type": "code",
   "execution_count": 8,
   "metadata": {},
   "outputs": [
    {
     "name": "stdout",
     "output_type": "stream",
     "text": [
      "Enter the maximum value for Fibonacci series: 50\n",
      "0\n",
      "1\n",
      "1\n",
      "2\n",
      "3\n",
      "5\n",
      "8\n",
      "13\n",
      "21\n",
      "34\n"
     ]
    }
   ],
   "source": [
    "max = int(input(\"Enter the maximum value for Fibonacci series: \"))\n",
    "a,b = 0,1\n",
    "print(a)\n",
    "while b <= max:\n",
    "    print(b)\n",
    "    a,b = b, a+b"
   ]
  },
  {
   "cell_type": "code",
   "execution_count": null,
   "metadata": {},
   "outputs": [],
   "source": [
    "print()"
   ]
  },
  {
   "cell_type": "code",
   "execution_count": 1,
   "metadata": {},
   "outputs": [
    {
     "name": "stdout",
     "output_type": "stream",
     "text": [
      "0\n",
      "1\n",
      "1\n",
      "2\n",
      "3\n",
      "5\n",
      "8\n"
     ]
    }
   ],
   "source": [
    "#1\n",
    "def fibon(max):\n",
    "    x= 0\n",
    "    y = 1\n",
    "    print(x)\n",
    "    while y <= max:\n",
    "        print(y)\n",
    "        z = x+y\n",
    "        x = y\n",
    "        y = z\n",
    "fibon(10)"
   ]
  },
  {
   "cell_type": "code",
   "execution_count": 2,
   "metadata": {},
   "outputs": [
    {
     "name": "stdout",
     "output_type": "stream",
     "text": [
      "0\n",
      "1\n",
      "1\n",
      "2\n",
      "3\n",
      "5\n",
      "8\n"
     ]
    }
   ],
   "source": [
    "#2\n",
    "def fibon_1(max):\n",
    "    a,b =0,1\n",
    "    print(a)\n",
    "    while b<=max:\n",
    "        print(b)\n",
    "        a,b = b, a+b\n",
    "fibon_1(10)"
   ]
  },
  {
   "cell_type": "code",
   "execution_count": null,
   "metadata": {},
   "outputs": [],
   "source": [
    "def fib(n):\n",
    "#     if n <= 1:\n",
    "#         return n\n",
    "#     else:\n",
    "#         if \n",
    "#         return(fib(n-1) + fib(n-2))\n",
    "\n",
    "# ntime = 10\n",
    "\n",
    "\n",
    "# if ntime <= 0:\n",
    "#     print(\"Plese enter a positive value\")\n",
    "# else:\n",
    "#     print(\"Fibonacci sequence:\")\n",
    "#     for i in range(ntime):\n",
    "#         print(fib(i))\n"
   ]
  },
  {
   "cell_type": "code",
   "execution_count": null,
   "metadata": {},
   "outputs": [],
   "source": [
    "# def fib(i,j, n):\n",
    "#     k=i+j\n",
    "#     if(k<=n):\n",
    "#         i=j\n",
    "#         j=k\n",
    "#         print(k)\n",
    "#         fib(i,j, n)\n",
    "# fib(0,1, 50)"
   ]
  },
  {
   "cell_type": "code",
   "execution_count": null,
   "metadata": {},
   "outputs": [],
   "source": [
    "# def fib():\n",
    "#     x = 0\n",
    "#     y = 1\n",
    "#     z = 0\n",
    "#     print(x,y, end = \" \")\n",
    "# #     run = True\n",
    "#     while True:\n",
    "#         if z >= 50:\n",
    "#             break\n",
    "        \n",
    "#         else:\n",
    "#             z = x + y\n",
    "#             if z <= 50:\n",
    "#                 print(z, end = \" \")\n",
    "#             x = y\n",
    "#             y = z\n",
    "    \n",
    "# fib()\n",
    "\n"
   ]
  },
  {
   "cell_type": "code",
   "execution_count": null,
   "metadata": {},
   "outputs": [],
   "source": [
    "# def fibbo():\n",
    "#     k=0 \n",
    "#     i=0\n",
    "#     j=1\n",
    "#     while(i<50):         \n",
    "#         print(i)\n",
    "#         i=k+j\n",
    "#         k=j\n",
    "#         j=i\n",
    "      \n",
    "#       #k=k+1\n",
    "# fibbo()\n",
    "\n",
    "# ----------------------------------------------\n",
    "fseries = [0,1]\n",
    "num = eval(input('Enter the number till which you want your fibonacci series: '))\n",
    "for f in range(num):\n",
    "    if fseries[-1] > num:\n",
    "         break\n",
    "    else:       \n",
    "        fseries.append(fseries[f]+fseries[f+1])\n",
    "print(fseries)"
   ]
  }
 ],
 "metadata": {
  "kernelspec": {
   "display_name": "Python 3",
   "language": "python",
   "name": "python3"
  },
  "language_info": {
   "codemirror_mode": {
    "name": "ipython",
    "version": 3
   },
   "file_extension": ".py",
   "mimetype": "text/x-python",
   "name": "python",
   "nbconvert_exporter": "python",
   "pygments_lexer": "ipython3",
   "version": "3.8.3"
  }
 },
 "nbformat": 4,
 "nbformat_minor": 4
}
