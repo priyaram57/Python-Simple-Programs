{
 "cells": [
  {
   "cell_type": "code",
   "execution_count": 1,
   "metadata": {},
   "outputs": [
    {
     "name": "stdout",
     "output_type": "stream",
     "text": [
      "Enter a number between 0 and 9 :6\n",
      "Six\n"
     ]
    }
   ],
   "source": [
    "# WAP to get a number between 0 and 9 from user and print that value in words\n",
    "\n",
    "num1 = int(input(\"Enter a number between 0 and 9 :\"))\n",
    "if num1 == 0:\n",
    "    print (\"Zero\")\n",
    "elif num1 == 1:\n",
    "    print (\"One\")\n",
    "elif num1 == 2:\n",
    "    print (\"Two\")\n",
    "elif num1 == 3:\n",
    "    print (\"Three\")\n",
    "elif num1 == 4:\n",
    "    print (\"Four\")\n",
    "elif num1 == 5:\n",
    "    print (\"Five\")\n",
    "elif num1 == 6:\n",
    "    print (\"Six\")\n",
    "elif num1 == 7:\n",
    "    print (\"Seven\")\n",
    "elif num1 == 8:\n",
    "    print (\"Eight\")\n",
    "elif num1 == 91:\n",
    "    print (\"Nine\")\n",
    "else:\n",
    "    print (\"Invalid entry\")"
   ]
  }
 ],
 "metadata": {
  "kernelspec": {
   "display_name": "Python 3",
   "language": "python",
   "name": "python3"
  },
  "language_info": {
   "codemirror_mode": {
    "name": "ipython",
    "version": 3
   },
   "file_extension": ".py",
   "mimetype": "text/x-python",
   "name": "python",
   "nbconvert_exporter": "python",
   "pygments_lexer": "ipython3",
   "version": "3.8.3"
  }
 },
 "nbformat": 4,
 "nbformat_minor": 4
}
