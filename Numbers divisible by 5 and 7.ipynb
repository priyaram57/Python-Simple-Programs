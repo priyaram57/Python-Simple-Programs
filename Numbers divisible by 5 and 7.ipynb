{
 "cells": [
  {
   "cell_type": "code",
   "execution_count": 7,
   "metadata": {},
   "outputs": [
    {
     "name": "stdout",
     "output_type": "stream",
     "text": [
      "Enter 1st number: 1300\n",
      "Enter 2nd number: 1400\n",
      "\n",
      "1330\n",
      "1365\n"
     ]
    }
   ],
   "source": [
    "#Program to find all the numbers between two numbers(num1 & num2) which are divisible by 5 and 7\n",
    "\n",
    "num1 = int(input(\"Enter 1st number: \"))\n",
    "num2 = int(input(\"Enter 2nd number: \" ))\n",
    "print()\n",
    "if num2 > num1:\n",
    "    for i in range(num1,num2):\n",
    "        if(i%5 == 0 and i%7 == 0):\n",
    "            print(i)\n",
    "else:\n",
    "    print(\"Not possible. num2 is larger than num1\")"
   ]
  },
  {
   "cell_type": "code",
   "execution_count": 8,
   "metadata": {},
   "outputs": [
    {
     "name": "stdout",
     "output_type": "stream",
     "text": [
      "[1300 1301 1302 1303 1304 1305 1306 1307 1308 1309 1310 1311 1312 1313\n",
      " 1314 1315 1316 1317 1318 1319 1320 1321 1322 1323 1324 1325 1326 1327\n",
      " 1328 1329 1330 1331 1332 1333 1334 1335 1336 1337 1338 1339 1340 1341\n",
      " 1342 1343 1344 1345 1346 1347 1348 1349 1350 1351 1352 1353 1354 1355\n",
      " 1356 1357 1358 1359 1360 1361 1362 1363 1364 1365 1366 1367 1368 1369\n",
      " 1370 1371 1372 1373 1374 1375 1376 1377 1378 1379 1380 1381 1382 1383\n",
      " 1384 1385 1386 1387 1388 1389 1390 1391 1392 1393 1394 1395 1396 1397\n",
      " 1398 1399]\n"
     ]
    },
    {
     "data": {
      "text/plain": [
       "array([1330, 1365])"
      ]
     },
     "execution_count": 8,
     "metadata": {},
     "output_type": "execute_result"
    }
   ],
   "source": [
    "#Using numpy (more efficient than using loops)\n",
    "\n",
    "import numpy as np\n",
    "\n",
    "arr1 = np.array(range(num1, num2))\n",
    "print(arr1)\n",
    "\n",
    "arr1[(arr1 % 7 == 0) & (arr1 % 5 == 0)] #indexing on an array"
   ]
  }
 ],
 "metadata": {
  "kernelspec": {
   "display_name": "Python 3",
   "language": "python",
   "name": "python3"
  },
  "language_info": {
   "codemirror_mode": {
    "name": "ipython",
    "version": 3
   },
   "file_extension": ".py",
   "mimetype": "text/x-python",
   "name": "python",
   "nbconvert_exporter": "python",
   "pygments_lexer": "ipython3",
   "version": "3.8.3"
  }
 },
 "nbformat": 4,
 "nbformat_minor": 4
}
